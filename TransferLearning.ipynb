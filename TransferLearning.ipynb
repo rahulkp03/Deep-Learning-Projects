{
  "cells": [
    {
      "cell_type": "markdown",
      "metadata": {
        "id": "view-in-github",
        "colab_type": "text"
      },
      "source": [
        "<a href=\"https://colab.research.google.com/github/rahulkp03/Deep-Learning-Projects/blob/main/TransferLearning.ipynb\" target=\"_parent\"><img src=\"https://colab.research.google.com/assets/colab-badge.svg\" alt=\"Open In Colab\"/></a>"
      ]
    },
    {
      "cell_type": "markdown",
      "metadata": {
        "id": "ykg64-UmWb4q"
      },
      "source": [
        "## Transfer-Learning \n",
        "\n",
        "\n",
        "\n",
        "\n"
      ]
    },
    {
      "cell_type": "code",
      "source": [
        "import numpy as np\n",
        "import tensorflow as tf\n",
        "import matplotlib.pyplot as plt\n",
        "from tensorflow.keras.datasets import cifar100\n",
        "from tensorflow.keras.applications.resnet50 import ResNet50, preprocess_input\n",
        "import tensorflow.keras as keras\n",
        "from tensorflow.keras.models import Model, Sequential\n",
        "from tensorflow.keras.layers import Input, UpSampling2D, Flatten, BatchNormalization, Dense, Dropout, GlobalAveragePooling2D\n",
        "from keras.utils import np_utils\n",
        "from skimage.transform import resize\n",
        "from tensorflow.keras.applications.resnet50 import decode_predictions\n",
        "from tensorflow.keras.preprocessing.image import ImageDataGenerator"
      ],
      "metadata": {
        "id": "82KnVtTb9fwv"
      },
      "execution_count": 1,
      "outputs": []
    },
    {
      "cell_type": "code",
      "source": [
        "(x_train, y_train), (x_test, y_test) = cifar100.load_data()"
      ],
      "metadata": {
        "colab": {
          "base_uri": "https://localhost:8080/"
        },
        "id": "HN1m9yU292k4",
        "outputId": "82fe6b5a-92a7-4f88-f38b-148151a05ea4"
      },
      "execution_count": 2,
      "outputs": [
        {
          "output_type": "stream",
          "name": "stdout",
          "text": [
            "Downloading data from https://www.cs.toronto.edu/~kriz/cifar-100-python.tar.gz\n",
            "169001437/169001437 [==============================] - 3s 0us/step\n"
          ]
        }
      ]
    },
    {
      "cell_type": "code",
      "source": [
        "#Pre-process the data\n",
        "x_train = preprocess_input(x_train)\n",
        "x_test = preprocess_input(x_test)"
      ],
      "metadata": {
        "id": "S1ZwJYmv-BxF"
      },
      "execution_count": 3,
      "outputs": []
    },
    {
      "cell_type": "code",
      "execution_count": 4,
      "metadata": {
        "id": "km_G0JdQyuDS"
      },
      "outputs": [],
      "source": [
        "def get_random_eraser(p=0.5, s_l=0.02, s_h=0.4, r_1=0.3, r_2=1/0.3, v_l=0, v_h=255, pixel_level=False):\n",
        "    def eraser(input_img):\n",
        "        img_h, img_w, img_c = input_img.shape\n",
        "        p_1 = np.random.rand()\n",
        "\n",
        "        if p_1 > p:\n",
        "            return input_img\n",
        "\n",
        "        while True:\n",
        "            s = np.random.uniform(s_l, s_h) * img_h * img_w\n",
        "            r = np.random.uniform(r_1, r_2)\n",
        "            w = int(np.sqrt(s / r))\n",
        "            h = int(np.sqrt(s * r))\n",
        "            left = np.random.randint(0, img_w)\n",
        "            top = np.random.randint(0, img_h)\n",
        "\n",
        "            if left + w <= img_w and top + h <= img_h:\n",
        "                break\n",
        "\n",
        "        if pixel_level:\n",
        "            c = np.random.uniform(v_l, v_h, (h, w, img_c))\n",
        "        else:\n",
        "            c = np.random.uniform(v_l, v_h)\n",
        "\n",
        "        input_img[top:top + h, left:left + w, :] = c\n",
        "\n",
        "        return input_img\n",
        "\n",
        "    return eraser"
      ]
    },
    {
      "cell_type": "code",
      "execution_count": 5,
      "metadata": {
        "id": "X4EMAANwO9E-"
      },
      "outputs": [],
      "source": [
        "datagen = ImageDataGenerator(preprocessing_function=get_random_eraser(v_l=0, v_h=1, pixel_level=True))\n",
        "datagen.fit(x_train)"
      ]
    },
    {
      "cell_type": "code",
      "execution_count": 7,
      "metadata": {
        "id": "KMsXhd1IW0nM"
      },
      "outputs": [],
      "source": [
        "y_train = np_utils.to_categorical(y_train, 100)\n",
        "y_test = np_utils.to_categorical(y_test, 100)"
      ]
    },
    {
      "cell_type": "code",
      "execution_count": 9,
      "metadata": {
        "id": "tYelN4gNTPAY"
      },
      "outputs": [],
      "source": [
        "resnet_model = ResNet50(weights='imagenet', include_top=False, input_shape=(256, 256, 3))\n",
        "\n",
        "for layer in resnet_model.layers:\n",
        "    if isinstance(layer, BatchNormalization):\n",
        "        layer.trainable = True\n",
        "    else:\n",
        "        layer.trainable = False\n",
        "\n",
        "model = Sequential()\n",
        "model.add(UpSampling2D())\n",
        "model.add(UpSampling2D())\n",
        "model.add(UpSampling2D())\n",
        "model.add(resnet_model)\n",
        "model.add(GlobalAveragePooling2D())\n",
        "model.add(Dense(256, activation='relu'))\n",
        "model.add(Dropout(.25))\n",
        "model.add(BatchNormalization())\n",
        "model.add(Dense(100, activation='softmax'))"
      ]
    },
    {
      "cell_type": "code",
      "execution_count": null,
      "metadata": {
        "id": "i7o5mxPo9dsf",
        "outputId": "a16ac88c-6351-4ca6-ef62-53df593bcf6d"
      },
      "outputs": [
        {
          "name": "stdout",
          "output_type": "stream",
          "text": [
            "Model: \"sequential_3\"\n",
            "_________________________________________________________________\n",
            "Layer (type)                 Output Shape              Param #   \n",
            "=================================================================\n",
            "up_sampling2d_9 (UpSampling2 (None, None, None, None)  0         \n",
            "_________________________________________________________________\n",
            "up_sampling2d_10 (UpSampling (None, None, None, None)  0         \n",
            "_________________________________________________________________\n",
            "up_sampling2d_11 (UpSampling (None, None, None, None)  0         \n",
            "_________________________________________________________________\n",
            "resnet50 (Functional)        (None, 8, 8, 2048)        23587712  \n",
            "_________________________________________________________________\n",
            "global_average_pooling2d_3 ( (None, 2048)              0         \n",
            "_________________________________________________________________\n",
            "dense_6 (Dense)              (None, 256)               524544    \n",
            "_________________________________________________________________\n",
            "dropout_3 (Dropout)          (None, 256)               0         \n",
            "_________________________________________________________________\n",
            "batch_normalization_3 (Batch (None, 256)               1024      \n",
            "_________________________________________________________________\n",
            "dense_7 (Dense)              (None, 100)               25700     \n",
            "=================================================================\n",
            "Total params: 24,138,980\n",
            "Trainable params: 603,876\n",
            "Non-trainable params: 23,535,104\n",
            "_________________________________________________________________\n"
          ]
        }
      ],
      "source": [
        "model.summary()"
      ]
    },
    {
      "cell_type": "code",
      "execution_count": 10,
      "metadata": {
        "id": "C2Ah2MQa9dsh"
      },
      "outputs": [],
      "source": [
        "model.compile(loss='categorical_crossentropy',optimizer='adam',metrics=['accuracy'])"
      ]
    },
    {
      "cell_type": "code",
      "execution_count": 12,
      "metadata": {
        "colab": {
          "base_uri": "https://localhost:8080/"
        },
        "id": "DJ0HFOoen4R6",
        "outputId": "21bcb016-490f-410d-e7c3-c5d2c4cff285",
        "scrolled": true
      },
      "outputs": [
        {
          "metadata": {
            "tags": null
          },
          "name": "stderr",
          "output_type": "stream",
          "text": [
            "<ipython-input-12-7e57394df979>:1: UserWarning: `Model.fit_generator` is deprecated and will be removed in a future version. Please use `Model.fit`, which supports generators.\n",
            "  history = model.fit_generator(datagen.flow(x_train, y_train,\n"
          ]
        },
        {
          "output_type": "stream",
          "name": "stdout",
          "text": [
            "Epoch 1/15\n",
            "781/781 [==============================] - 524s 643ms/step - loss: 2.0203 - accuracy: 0.4836 - val_loss: 1.0123 - val_accuracy: 0.7019\n",
            "Epoch 2/15\n",
            "781/781 [==============================] - 500s 640ms/step - loss: 1.1630 - accuracy: 0.6676 - val_loss: 0.8329 - val_accuracy: 0.7499\n",
            "Epoch 3/15\n",
            "781/781 [==============================] - 493s 632ms/step - loss: 0.9847 - accuracy: 0.7121 - val_loss: 0.7766 - val_accuracy: 0.7632\n",
            "Epoch 4/15\n",
            "781/781 [==============================] - 493s 631ms/step - loss: 0.8723 - accuracy: 0.7395 - val_loss: 0.7532 - val_accuracy: 0.7717\n",
            "Epoch 5/15\n",
            "781/781 [==============================] - 500s 640ms/step - loss: 0.8138 - accuracy: 0.7552 - val_loss: 0.7285 - val_accuracy: 0.7848\n",
            "Epoch 6/15\n",
            "781/781 [==============================] - 500s 640ms/step - loss: 0.7477 - accuracy: 0.7728 - val_loss: 0.7552 - val_accuracy: 0.7800\n",
            "Epoch 7/15\n",
            "781/781 [==============================] - 500s 640ms/step - loss: 0.6997 - accuracy: 0.7872 - val_loss: 0.7043 - val_accuracy: 0.7900\n",
            "Epoch 8/15\n",
            "781/781 [==============================] - 493s 631ms/step - loss: 0.6556 - accuracy: 0.7985 - val_loss: 0.7016 - val_accuracy: 0.7933\n",
            "Epoch 9/15\n",
            "781/781 [==============================] - 493s 631ms/step - loss: 0.6345 - accuracy: 0.8034 - val_loss: 0.6959 - val_accuracy: 0.7917\n",
            "Epoch 10/15\n",
            "781/781 [==============================] - 493s 631ms/step - loss: 0.5945 - accuracy: 0.8149 - val_loss: 0.7228 - val_accuracy: 0.7873\n",
            "Epoch 11/15\n",
            "781/781 [==============================] - 500s 640ms/step - loss: 0.5669 - accuracy: 0.8242 - val_loss: 0.7038 - val_accuracy: 0.7985\n",
            "Epoch 12/15\n",
            "781/781 [==============================] - 500s 640ms/step - loss: 0.5403 - accuracy: 0.8312 - val_loss: 0.7114 - val_accuracy: 0.7977\n",
            "Epoch 13/15\n",
            "781/781 [==============================] - 500s 640ms/step - loss: 0.5122 - accuracy: 0.8385 - val_loss: 0.7043 - val_accuracy: 0.8029\n",
            "Epoch 14/15\n",
            "781/781 [==============================] - 493s 631ms/step - loss: 0.5002 - accuracy: 0.8434 - val_loss: 0.7107 - val_accuracy: 0.7998\n",
            "Epoch 15/15\n",
            "781/781 [==============================] - 500s 640ms/step - loss: 0.4791 - accuracy: 0.8500 - val_loss: 0.7190 - val_accuracy: 0.7996\n"
          ]
        }
      ],
      "source": [
        "history = model.fit_generator(datagen.flow(x_train, y_train,\n",
        "                                  batch_size=64),\n",
        "                                  steps_per_epoch=x_train.shape[0] // 64,\n",
        "                                  epochs=15,\n",
        "                                  validation_data=(x_test, y_test))"
      ]
    },
    {
      "cell_type": "code",
      "execution_count": 15,
      "metadata": {
        "id": "-WsUOYLgqVBw"
      },
      "outputs": [],
      "source": [
        "#model.save_weights(\"New_cifar100.h5\")"
      ]
    },
    {
      "cell_type": "code",
      "source": [
        "model.evaluate(x_test, y_test)"
      ],
      "metadata": {
        "colab": {
          "base_uri": "https://localhost:8080/"
        },
        "id": "2b2WYMb3TTOy",
        "outputId": "633c6b8a-5ecf-471e-8928-3b847f162d2c"
      },
      "execution_count": 13,
      "outputs": [
        {
          "output_type": "stream",
          "name": "stdout",
          "text": [
            "313/313 [==============================] - 36s 114ms/step - loss: 0.7190 - accuracy: 0.7996\n"
          ]
        },
        {
          "output_type": "execute_result",
          "data": {
            "text/plain": [
              "[0.7190161943435669, 0.7996000051498413]"
            ]
          },
          "metadata": {},
          "execution_count": 13
        }
      ]
    },
    {
      "cell_type": "code",
      "source": [
        "plt.plot(history.history['accuracy'])\n",
        "plt.plot(history.history['val_accuracy'])\n",
        "plt.title('Model Accuracy')\n",
        "plt.ylabel('Accuracy')\n",
        "plt.xlabel('Epoch')\n",
        "plt.legend(['Train', 'Validation'], loc='upper left')\n",
        "plt.show()\n",
        "\n",
        "plt.plot(history.history['loss'])\n",
        "plt.plot(history.history['val_loss'])\n",
        "plt.title('Model Loss')\n",
        "plt.ylabel('Loss')\n",
        "plt.xlabel('Epoch')\n",
        "plt.legend(['Train', 'Validation'], loc='upper right')\n",
        "plt.show()"
      ],
      "metadata": {
        "colab": {
          "base_uri": "https://localhost:8080/",
          "height": 573
        },
        "id": "vWjDUorIfOEJ",
        "outputId": "7ed50676-a0ca-40cc-db11-9e3a970d1b1a"
      },
      "execution_count": 14,
      "outputs": [
        {
          "output_type": "display_data",
          "data": {
            "text/plain": [
              "<Figure size 432x288 with 1 Axes>"
            ],
            "image/png": "[encoded data removed]"
          },
          "metadata": {
            "needs_background": "light"
          }
        },
        {
          "output_type": "display_data",
          "data": {
            "text/plain": [
              "<Figure size 432x288 with 1 Axes>"
            ],
            "image/png": "[encoded data removed]"
          },
          "metadata": {
            "needs_background": "light"
          }
        }
      ]
    },
    {
      "cell_type": "code",
      "execution_count": null,
      "metadata": {
        "id": "nYTU7Qlz9dsl"
      },
      "outputs": [],
      "source": []
    }
  ],
  "metadata": {
    "accelerator": "GPU",
    "colab": {
      "machine_shape": "hm",
      "provenance": [],
      "include_colab_link": true
    },
    "kernelspec": {
      "display_name": "Python 3 (ipykernel)",
      "language": "python",
      "name": "python3"
    },
    "language_info": {
      "codemirror_mode": {
        "name": "ipython",
        "version": 3
      },
      "file_extension": ".py",
      "mimetype": "text/x-python",
      "name": "python",
      "nbconvert_exporter": "python",
      "pygments_lexer": "ipython3",
      "version": "3.9.12"
    }
  },
  "nbformat": 4,
  "nbformat_minor": 0
}